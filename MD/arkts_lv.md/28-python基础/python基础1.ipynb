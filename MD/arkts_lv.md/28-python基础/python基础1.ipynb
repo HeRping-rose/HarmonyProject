{
 "cells": [
  {
   "cell_type": "code",
   "execution_count": 7,
   "id": "ef697434-ecea-44dd-aaab-f7a5f5afcb8e",
   "metadata": {},
   "outputs": [
    {
     "name": "stdout",
     "output_type": "stream",
     "text": [
      "10\n"
     ]
    }
   ],
   "source": [
    "a=10\n",
    "print(a)"
   ]
  },
  {
   "cell_type": "markdown",
   "id": "ee6976aa-423f-443a-9233-3872124bb475",
   "metadata": {},
   "source": [
    "<h1>title</h1>"
   ]
  },
  {
   "cell_type": "code",
   "execution_count": null,
   "id": "eb90e2b3-2f58-42c7-8380-21eda71e9daa",
   "metadata": {},
   "outputs": [],
   "source": []
  },
  {
   "cell_type": "code",
   "execution_count": 19,
   "id": "1ee956a9-8970-4669-92df-00d08d1c376c",
   "metadata": {},
   "outputs": [
    {
     "data": {
      "text/plain": [
       "False"
      ]
     },
     "execution_count": 19,
     "metadata": {},
     "output_type": "execute_result"
    }
   ],
   "source": [
    "a=10  \n",
    "a='string'\n",
    "a=False\n",
    "a"
   ]
  },
  {
   "cell_type": "code",
   "execution_count": 20,
   "id": "e5726d57-91b0-4bf2-bba2-ed48f473a252",
   "metadata": {},
   "outputs": [
    {
     "name": "stdout",
     "output_type": "stream",
     "text": [
      "100\n"
     ]
    }
   ],
   "source": [
    "a=100\n",
    "if a>10:\n",
    "    print(a)\n",
    "else:\n",
    "    print('小于=10')"
   ]
  },
  {
   "cell_type": "code",
   "execution_count": 31,
   "id": "109fa8d8-8cb0-437e-9fb6-834129819ac1",
   "metadata": {},
   "outputs": [
    {
     "name": "stdout",
     "output_type": "stream",
     "text": [
      "15+16=31\n",
      "1+2+3\n"
     ]
    }
   ],
   "source": [
    "b='asfdasfaf'\n",
    "c='''123\n",
    "234'''\n",
    "print('15+16=',end='')\n",
    "print(15+16)\n",
    "print(1,2,3,sep='+')\n",
    "# print(15+16)"
   ]
  },
  {
   "cell_type": "code",
   "execution_count": 41,
   "id": "229516a8-129a-4012-a873-83277796e325",
   "metadata": {},
   "outputs": [
    {
     "name": "stdout",
     "output_type": "stream",
     "text": [
      "==========\n",
      "      姓名: dongge\n",
      "      qq:234153566\n",
      "      手机号: 23423253454xxx\n",
      "      公司地址:四川成都xxxx\n",
      "==========\n"
     ]
    }
   ],
   "source": [
    "print('='*10)\n",
    "print(' '*5,'姓名: dongge')\n",
    "print(' '*5,'qq:234153566')\n",
    "print(' '*5,'手机号: 23423253454xxx')\n",
    "print(' '*5,'公司地址:四川成都xxxx')\n",
    "print('='*10)\n",
    "\n",
    "\n"
   ]
  },
  {
   "cell_type": "code",
   "execution_count": 50,
   "id": "55189fc0-6d32-4ba7-b98d-f00b038e73be",
   "metadata": {},
   "outputs": [
    {
     "name": "stdin",
     "output_type": "stream",
     "text": [
      "num1: 1\n",
      "num2: 2\n",
      "运算符: +\n"
     ]
    },
    {
     "name": "stdout",
     "output_type": "stream",
     "text": [
      "3\n"
     ]
    }
   ],
   "source": [
    "try:\n",
    "    a=int(input('num1:'))\n",
    "    b=int(input('num2:'))\n",
    "    c=input('运算符:')\n",
    "    if c=='+':\n",
    "        print(a+b)\n",
    "    elif c=='-':\n",
    "        print(a-b)\n",
    "    elif c=='*':\n",
    "        print(a*b)\n",
    "    elif c=='/':\n",
    "        print(a/b)\n",
    "    else:\n",
    "        print('输入的运算符不对')\n",
    "except ValueError:\n",
    "    print('请输入number:')\n",
    "except ZeroDivisionError:\n",
    "    print('除数不能为0')\n",
    "    "
   ]
  },
  {
   "cell_type": "code",
   "execution_count": 52,
   "id": "e21fba5c-fe19-442a-9fd9-c8aa7cb4d89b",
   "metadata": {},
   "outputs": [
    {
     "data": {
      "text/plain": [
       "'cba'"
      ]
     },
     "execution_count": 52,
     "metadata": {},
     "output_type": "execute_result"
    }
   ],
   "source": [
    "s='abc'\n",
    "n=len(s)\n",
    "\n",
    "new=''\n",
    "while n>0:\n",
    "    n=n-1\n",
    "    new +=s[n]\n",
    "new"
   ]
  },
  {
   "cell_type": "code",
   "execution_count": null,
   "id": "cc773efa-ce49-48d6-986f-fe6fd283fc0b",
   "metadata": {},
   "outputs": [],
   "source": []
  },
  {
   "cell_type": "code",
   "execution_count": 57,
   "id": "ffb94feb-9f55-464f-89f9-01b1a55402d3",
   "metadata": {},
   "outputs": [
    {
     "name": "stdout",
     "output_type": "stream",
     "text": [
      "error\n",
      "error\n",
      "36\n",
      "error\n",
      "83\n",
      "6\n",
      "error\n",
      "error\n",
      "13\n",
      "error\n",
      "error\n",
      "error\n",
      "2\n",
      "62\n",
      "51\n",
      "1\n",
      "0-100分的列表: [36, 83, 6, 13, 2, 62, 51, 1]\n"
     ]
    }
   ],
   "source": [
    "score = [123, 542, 36, 273, 83, 6, 368, 256, 13, -345, 135, 3467, 2, 62, 51, 1]\n",
    "new = []\n",
    "\n",
    "for val in score:\n",
    "    if 0 <= val <= 100:  # 0到100之间\n",
    "        new.append(val)\n",
    "        print(val)\n",
    "    else:\n",
    "        print(\"error\")\n",
    "\n",
    "print(\"0-100分的列表:\", new)"
   ]
  },
  {
   "cell_type": "code",
   "execution_count": 61,
   "id": "317b04ae-6fee-46ad-bf43-b0baed07c5b9",
   "metadata": {},
   "outputs": [
    {
     "name": "stdout",
     "output_type": "stream",
     "text": [
      "[62, 6, 2, 234123, 56, 1, 35, 35]\n",
      "[132, 51435, 62]\n",
      "[132, 62, 2, 56, 35]\n",
      "[35, 35, 1, 56, 234123, 2, 6, 62, 51435, 132, 12]\n",
      "[2, 234123]\n"
     ]
    }
   ],
   "source": [
    "a=[12,132,51435,62,6,2,234123,56,1,35,35]\n",
    "print(a[3:])\n",
    "print(a[1:4])\n",
    "print(a[1:-1:2])\n",
    "print(a[::-1])  #倒着取\n",
    "\n",
    "start=a.index(2)\n",
    "end=start+2\n",
    "print(a[start:end])"
   ]
  },
  {
   "cell_type": "code",
   "execution_count": 62,
   "id": "3f4e6955-8f90-4bf5-9ef9-d91f5e96c7f0",
   "metadata": {},
   "outputs": [
    {
     "data": {
      "text/plain": [
       "[246, 4624, 8, 10, 130690, 1292, 74]"
      ]
     },
     "execution_count": 62,
     "metadata": {},
     "output_type": "execute_result"
    }
   ],
   "source": [
    "arr=[123,2312,4,5,65345,646,37]\n",
    "[i*2 for i in arr]"
   ]
  },
  {
   "cell_type": "code",
   "execution_count": 63,
   "id": "c5cddaab-3b88-4941-ad1c-5a5f4cffebdb",
   "metadata": {},
   "outputs": [
    {
     "data": {
      "text/plain": [
       "['A', 'B', 'C']"
      ]
     },
     "execution_count": 63,
     "metadata": {},
     "output_type": "execute_result"
    }
   ],
   "source": [
    "arr=['a','b','c']\n",
    "[i.upper() for i in arr]"
   ]
  },
  {
   "cell_type": "code",
   "execution_count": 65,
   "id": "c9d0f643-31b9-4610-9541-45d793408f2d",
   "metadata": {},
   "outputs": [
    {
     "data": {
      "text/plain": [
       "['First', 'Letter', 'Uppercase']"
      ]
     },
     "execution_count": 65,
     "metadata": {},
     "output_type": "execute_result"
    }
   ],
   "source": [
    "arr=['first','letter','uppercase']\n",
    "[i[0].upper()+i[1:] for i in arr]"
   ]
  },
  {
   "cell_type": "code",
   "execution_count": 66,
   "id": "1a22b482-aaf2-4db0-9bd4-ff6f7e4e3cef",
   "metadata": {},
   "outputs": [
    {
     "data": {
      "text/plain": [
       "[32, 63, 73, 66, 27, 28, 43, 25, 73, 22, 73, 65]"
      ]
     },
     "execution_count": 66,
     "metadata": {},
     "output_type": "execute_result"
    }
   ],
   "source": [
    "score=[12,43,53,46,7,8,23,5,73,2,53,45]\n",
    "[i+20 if (i<60) else i  for i in score]  #左边条件满足  右边 不满足条件"
   ]
  },
  {
   "cell_type": "code",
   "execution_count": 74,
   "id": "cabcc9b3-c6a9-4eb6-916f-3893a8a965f2",
   "metadata": {},
   "outputs": [
    {
     "data": {
      "text/plain": [
       "[61, 76, 86]"
      ]
     },
     "execution_count": 74,
     "metadata": {},
     "output_type": "execute_result"
    }
   ],
   "source": [
    "#列表推导  更新  过滤\n",
    "\n",
    "score1=[12,42,61,76,56,86,54,23,53]\n",
    "[i for i in score1 if i>=60]"
   ]
  },
  {
   "cell_type": "code",
   "execution_count": 77,
   "id": "9f8d3029-c743-4225-96ce-a2a9765b8461",
   "metadata": {},
   "outputs": [
    {
     "data": {
      "text/plain": [
       "['letter', 'uppercase']"
      ]
     },
     "execution_count": 77,
     "metadata": {},
     "output_type": "execute_result"
    }
   ],
   "source": [
    "arr=['first','letter','uppercase']\n",
    "[i for i in arr if 'e' in i]"
   ]
  },
  {
   "cell_type": "code",
   "execution_count": 82,
   "id": "ff36cf24-6f0e-4f77-9255-3ca9b92f8ce1",
   "metadata": {},
   "outputs": [
    {
     "data": {
      "text/plain": [
       "[12, 46, 8, 2]"
      ]
     },
     "execution_count": 82,
     "metadata": {},
     "output_type": "execute_result"
    }
   ],
   "source": [
    "[i for i in score if  i%2==0]"
   ]
  },
  {
   "cell_type": "code",
   "execution_count": 85,
   "id": "8903c356-86bf-4989-8d7e-961489648183",
   "metadata": {},
   "outputs": [
    {
     "data": {
      "text/plain": [
       "[1, 3, 5, 7, 9]"
      ]
     },
     "execution_count": 85,
     "metadata": {},
     "output_type": "execute_result"
    }
   ],
   "source": [
    "[i for i in range (1,10,2)]"
   ]
  },
  {
   "cell_type": "code",
   "execution_count": 104,
   "id": "02a5887e-ccf7-491e-b24e-f80a3dff8e23",
   "metadata": {},
   "outputs": [
    {
     "name": "stdout",
     "output_type": "stream",
     "text": [
      "None\n",
      "123@qq.com\n",
      "user --- xm\n",
      "age --- 18\n",
      "phone --- 123\n"
     ]
    }
   ],
   "source": [
    "\n",
    "\n",
    "#字典 \n",
    "user={'user':'xm','age':18,'phone':123}\n",
    "user['user']\n",
    "user.get('user')\n",
    "print(user.get('email'))\n",
    "print(user.get('email','123@qq.com'))#这个属性不存在 默认返回none也可以不返回none第二个参数自定义默认值\n",
    "user['pwd']='1234'\n",
    "user.pop('pwd')\n",
    "user\n",
    "user.keys()\n",
    "user.values()\n",
    "user.items()\n",
    "for key,value in user .items():\n",
    "    print(key,'---',value)"
   ]
  },
  {
   "cell_type": "code",
   "execution_count": 105,
   "id": "ede449fc-0197-454e-9e5f-ce3c2513386a",
   "metadata": {},
   "outputs": [
    {
     "data": {
      "text/plain": [
       "{1, 5, 6, 12, 23, 32, 46, 61, 341, 351}"
      ]
     },
     "execution_count": 105,
     "metadata": {},
     "output_type": "execute_result"
    }
   ],
   "source": [
    "#集合  去重\n",
    "a=set([12,23,32,23,32,5,341,351,5,46,6,1,61,61])\n",
    "a"
   ]
  },
  {
   "cell_type": "code",
   "execution_count": 106,
   "id": "306f82a2-d6d2-4b50-a1b9-8ca8ed088c2b",
   "metadata": {},
   "outputs": [
    {
     "data": {
      "text/plain": [
       "[32, 1, 5, 6, 12, 46, 341, 23, 61, 351]"
      ]
     },
     "execution_count": 106,
     "metadata": {},
     "output_type": "execute_result"
    }
   ],
   "source": [
    "list(a)"
   ]
  },
  {
   "cell_type": "code",
   "execution_count": 110,
   "id": "f6311f16-c1a3-4e5c-bcbb-87d7ce2d3c4b",
   "metadata": {},
   "outputs": [
    {
     "data": {
      "text/plain": [
       "{6, 12, 23, 32, 46, 61, 100, 341, 351}"
      ]
     },
     "execution_count": 110,
     "metadata": {},
     "output_type": "execute_result"
    }
   ],
   "source": [
    "a.add(100)\n",
    "a.remove(5)\n",
    "a"
   ]
  },
  {
   "cell_type": "code",
   "execution_count": 115,
   "id": "be67ad2e-9dc7-4dea-accf-9d78447ef761",
   "metadata": {},
   "outputs": [
    {
     "name": "stdout",
     "output_type": "stream",
     "text": [
      "6\n"
     ]
    }
   ],
   "source": [
    "#函数\n",
    "def add(a,b):\n",
    "    print(a+b)\n",
    "add(2,4)"
   ]
  },
  {
   "cell_type": "code",
   "execution_count": 116,
   "id": "14d06c47-8a7e-4db8-99aa-dd991a831e72",
   "metadata": {},
   "outputs": [
    {
     "data": {
      "text/plain": [
       "10"
      ]
     },
     "execution_count": 116,
     "metadata": {},
     "output_type": "execute_result"
    }
   ],
   "source": [
    "def sum(arr):\n",
    "    total=0\n",
    "    for i in arr:\n",
    "        total+=i\n",
    "    return total\n",
    "sum([1,2,3,4])"
   ]
  },
  {
   "cell_type": "code",
   "execution_count": 119,
   "id": "dde1c2fb-5cc4-4864-82bb-12080d5308e0",
   "metadata": {},
   "outputs": [
    {
     "name": "stdout",
     "output_type": "stream",
     "text": [
      "差\n"
     ]
    }
   ],
   "source": [
    "def sco(a):\n",
    "    if 90<a<=100:\n",
    "        print('优')\n",
    "    elif 80<a<=90:\n",
    "        print('良')\n",
    "    elif 70<a<=80:\n",
    "        print('中')\n",
    "    elif 60<a<=70:\n",
    "        print('差')\n",
    "    else :\n",
    "        print(a)\n",
    "sco(66)"
   ]
  },
  {
   "cell_type": "code",
   "execution_count": 121,
   "id": "49ee1759-19fa-4aa7-b021-1f5d7e0b920f",
   "metadata": {},
   "outputs": [
    {
     "name": "stdout",
     "output_type": "stream",
     "text": [
      "(12, 3, 14, 235346, 34, 763, 12)\n"
     ]
    },
    {
     "data": {
      "text/plain": [
       "236184"
      ]
     },
     "execution_count": 121,
     "metadata": {},
     "output_type": "execute_result"
    }
   ],
   "source": [
    "def su(*a):#  *接受全部参数\n",
    "    print(a)\n",
    "    t=0\n",
    "    for i in a:\n",
    "        t+=i\n",
    "    return t\n",
    "\n",
    "su(12,3,14,235346,34,763,12)"
   ]
  },
  {
   "cell_type": "code",
   "execution_count": 123,
   "id": "a5965f9d-ad21-4069-81bb-1d7435fb212f",
   "metadata": {},
   "outputs": [],
   "source": [
    "def person(n,m=10):\n",
    "    pass\n",
    "person('sdfsd',20)\n",
    "person('asdf')\n"
   ]
  },
  {
   "cell_type": "code",
   "execution_count": 128,
   "id": "a5598a9e-0392-45ba-a780-b8879838525d",
   "metadata": {},
   "outputs": [
    {
     "name": "stdout",
     "output_type": "stream",
     "text": [
      "200 200\n",
      "200\n"
     ]
    }
   ],
   "source": [
    "a=100\n",
    "def sum():\n",
    "    global a\n",
    "    a=200\n",
    "    b=200\n",
    "    print(a,b)\n",
    "sum()\n",
    "print(a)"
   ]
  },
  {
   "cell_type": "code",
   "execution_count": 137,
   "id": "a02f43e8-9a13-4b62-bab1-a71e159e25b8",
   "metadata": {},
   "outputs": [
    {
     "name": "stdout",
     "output_type": "stream",
     "text": [
      "MyCar\n",
      "{'color': 'black', 'pri': 100, 'brand': '宝马'}\n"
     ]
    }
   ],
   "source": [
    "class Car:\n",
    "    def __init__(self,color,pri,brand):\n",
    "        self.color=color\n",
    "        self.pri=pri\n",
    "        self.brand=brand\n",
    "    def info(self):\n",
    "        return f'这是{self.brand},价格:{self.pri}'\n",
    "    def __str__(self):\n",
    "        return 'MyCar'\n",
    "car=Car('black',100,'宝马')\n",
    "car.brand\n",
    "car.info()\n",
    "print(car)\n",
    "print(car.__dict__)\n"
   ]
  },
  {
   "cell_type": "code",
   "execution_count": 145,
   "id": "9efb5be2-bda4-4523-9e59-01ac56ffd5b3",
   "metadata": {},
   "outputs": [
    {
     "name": "stdout",
     "output_type": "stream",
     "text": [
      "小黑 发出了一种声音\n",
      "小黑 汪汪叫\n",
      "{'name': '小黑'}\n",
      "小白 喵喵叫\n",
      "{'name': '小白'}\n"
     ]
    },
    {
     "data": {
      "text/plain": [
       "88"
      ]
     },
     "execution_count": 145,
     "metadata": {},
     "output_type": "execute_result"
    }
   ],
   "source": [
    "# 父类\n",
    "class Animal:\n",
    "     \n",
    "    me=666 #类属性  实例也能调用\n",
    "    __qq=88 #私有类属性 一般用于类方法调用 不让外部用\n",
    "\n",
    "    #类方法 需要装饰器装饰 用类属性\n",
    "    @classmethod\n",
    "    def meth(cls):\n",
    "        return cls.__qq\n",
    "\n",
    "    @staticmethod # 静态方法  因为不需要依赖属性self cls 实例可以用 类也可以调用\n",
    "    def dd():\n",
    "        return 'dd'\n",
    "\n",
    "\n",
    "    \n",
    "    def __init__(self, name):\n",
    "        self.name = name#实例属性\n",
    "\n",
    "    def speak(self): #实例方法\n",
    "        print(f\"{self.name} 发出了一种声音\")\n",
    "\n",
    "# 子类\n",
    "class Dog(Animal):\n",
    "    def speak(self):  # 重写父类方法\n",
    "        super().speak()  # 调用父类的方法\n",
    "        print(f\"{self.name} 汪汪叫\")\n",
    "\n",
    "class Cat(Animal):\n",
    "    def speak(self):  # 重写父类方法\n",
    "        print(f\"{self.name} 喵喵叫\")\n",
    "\n",
    "\n",
    "# 使用\n",
    "dog = Dog(\"小黑\")\n",
    "dog.speak()  # 小黑 汪汪叫\n",
    "print(dog.__dict__)\n",
    "\n",
    "cat = Cat(\"小白\")\n",
    "cat.speak()  # 小白 喵喵叫\n",
    "print(cat.__dict__)\n",
    "\n",
    "an=Animal('动物')\n",
    "an.me\n",
    "Animal.meth()"
   ]
  },
  {
   "cell_type": "code",
   "execution_count": 142,
   "id": "6b3739b9-1692-4084-a314-f601643a1148",
   "metadata": {},
   "outputs": [
    {
     "name": "stdout",
     "output_type": "stream",
     "text": [
      "会飞\n",
      "会游泳\n",
      "嘎嘎叫\n",
      "(<class '__main__.Duck'>, <class '__main__.Flyable'>, <class '__main__.Swimmable'>, <class 'object'>)\n"
     ]
    }
   ],
   "source": [
    "# 父类1\n",
    "class Flyable:\n",
    "    def fly(self):\n",
    "        print(\"会飞\")\n",
    "\n",
    "# 父类2\n",
    "class Swimmable:\n",
    "    def swim(self):\n",
    "        print(\"会游泳\")\n",
    "\n",
    "# 子类同时继承两个父类\n",
    "class Duck(Flyable, Swimmable):\n",
    "    def sound(self):\n",
    "        print(\"嘎嘎叫\")\n",
    "\n",
    "# 使用\n",
    "duck = Duck()\n",
    "duck.fly()     # 会飞（来自 Flyable）\n",
    "duck.swim()    # 会游泳（来自 Swimmable）\n",
    "duck.sound()   # 嘎嘎叫（子类自己的方法）\n",
    "# print(Duck.__dict__)\n",
    "print(Duck.__mro__)\n"
   ]
  },
  {
   "cell_type": "code",
   "execution_count": null,
   "id": "547c281a-3272-4ab4-861d-e0d74b89cafd",
   "metadata": {},
   "outputs": [],
   "source": []
  }
 ],
 "metadata": {
  "kernelspec": {
   "display_name": "Python 3 (ipykernel)",
   "language": "python",
   "name": "python3"
  },
  "language_info": {
   "codemirror_mode": {
    "name": "ipython",
    "version": 3
   },
   "file_extension": ".py",
   "mimetype": "text/x-python",
   "name": "python",
   "nbconvert_exporter": "python",
   "pygments_lexer": "ipython3",
   "version": "3.13.5"
  }
 },
 "nbformat": 4,
 "nbformat_minor": 5
}
