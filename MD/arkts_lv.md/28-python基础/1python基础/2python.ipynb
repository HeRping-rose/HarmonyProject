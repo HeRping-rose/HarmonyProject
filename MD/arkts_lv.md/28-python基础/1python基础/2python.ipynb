{
 "cells": [
  {
   "cell_type": "code",
   "execution_count": 1,
   "id": "f4357a78",
   "metadata": {},
   "outputs": [
    {
     "name": "stdout",
     "output_type": "stream",
     "text": [
      "['Bob', 'Jack']\n",
      "[0, 5, 10, 15, 20, 25, 30, 35, 40, 45, 50, 55, 60, 65, 70, 75, 80, 85, 90, 95]\n"
     ]
    },
    {
     "data": {
      "text/plain": [
       "'og gnit`tel'"
      ]
     },
     "execution_count": 1,
     "metadata": {},
     "output_type": "execute_result"
    }
   ],
   "source": [
    "#切片\n",
    "L = ['Michael', 'Sarah', 'Tracy', 'Bob', 'Jack']\n",
    "print(L[-2:])\n",
    "L = list(range(100))\n",
    "print(L[::5])\n",
    "T = (0,0,1,5,1,4)[:3]\n",
    "T\n",
    "s = 'hello'[1:3]\n",
    "s\n",
    "s=r'let`ting go'[::-1]\n",
    "s"
   ]
  },
  {
   "cell_type": "code",
   "execution_count": 2,
   "id": "06a9c776",
   "metadata": {},
   "outputs": [
    {
     "data": {
      "text/plain": [
       "'这么不一样'"
      ]
     },
     "execution_count": 2,
     "metadata": {},
     "output_type": "execute_result"
    }
   ],
   "source": [
    "#小练习：有一个字符串，按照要求切除内容\n",
    "practice = \"有些人总是这么不一样，看了一眼，就能让人记住很多年。而有些人，哪怕看了再多年，也没在心头住下。\"\n",
    "target = \"这么不一样\"\n",
    "start = practice.find(target)\n",
    "end = start+len(target)\n",
    "practice[start:end]"
   ]
  },
  {
   "cell_type": "code",
   "execution_count": 6,
   "id": "eea4ed08",
   "metadata": {},
   "outputs": [
    {
     "name": "stdout",
     "output_type": "stream",
     "text": [
      "0 c\n",
      "1 d\n",
      "2 e\n",
      "1 3\n",
      "3 4\n",
      "5 6\n",
      "name jack\n",
      "age 20\n",
      "sex 1\n"
     ]
    }
   ],
   "source": [
    "#判断一个对象是可迭代对象呢？方法是通过 collections.abc 模块的 Iterable 类型判断：\n",
    "from collections.abc import Iterable\n",
    "isinstance('abc',Iterable)\n",
    "isinstance((1,3,6),Iterable)\n",
    "isinstance(123,Iterable)\n",
    "#Python内置的 enumerate 函数可以把一个 list 变成索引‑元素对\n",
    "for i,val in enumerate([\"c\",\"d\",\"e\"]):\n",
    "    print(i,val)\n",
    "for x,y in [(1,3),(3,4),(5,6)]:\n",
    "    print(x,y)\n",
    "for x,y in {\"name\":'jack','age':20,'sex':1}.items():\n",
    "    print(x,y)"
   ]
  },
  {
   "cell_type": "code",
   "execution_count": null,
   "id": "e782658c",
   "metadata": {},
   "outputs": [],
   "source": [
    "# 试试写代码，使用迭代查找一个list中最小和最大值，并返回一个tuple：\n",
    "def min_max(ls):\n",
    "    max = ls[0]\n",
    "    min = ls[0]\n",
    "    for i in ls:\n",
    "        if i>max:\n",
    "            max = i\n",
    "        if i<min:\n",
    "            min = i\n",
    "    return (min,max)\n",
    "min_max([22,4,6,2,23,455,23])"
   ]
  },
  {
   "cell_type": "code",
   "execution_count": 7,
   "id": "a870564b",
   "metadata": {},
   "outputs": [
    {
     "name": "stdout",
     "output_type": "stream",
     "text": [
      "[1, 4, 9, 16, 25, 36, 49, 64, 81, 100]\n"
     ]
    },
    {
     "data": {
      "text/plain": [
       "['ab', 'ac', 'ba', 'bc', 'ca', 'cb']"
      ]
     },
     "execution_count": 7,
     "metadata": {},
     "output_type": "execute_result"
    }
   ],
   "source": [
    "#列表生成式\n",
    "# print(list(range(1,11)))\n",
    "#生成 [1x1, 2x2, 3x3, ..., 10x10]\n",
    "list1 = []\n",
    "for i in range(1,11):\n",
    "    list1.append(i*i)\n",
    "print(list1)\n",
    "\n",
    "list2 = [x*x for x in range(1,11)]\n",
    "list2\n",
    "#计算单词长度\n",
    "words = ['data','science','machine','learning']\n",
    "words1 = [len(i) for i in words]\n",
    "words1\n",
    "#取出 words 列表中长度大于5的字符串\n",
    "words2 = [i for i in words if len(i) > 5 ]\n",
    "words2\n",
    "## 找出列表中所有字符串中的所有元音字母\n",
    "words3 = [j.upper() for i in words for j in i if j in [\"a\",'e','i','o','u']]\n",
    "words3\n",
    "# 在列表生成式中传入调用函数\n",
    "def fn(x):\n",
    "    return x*2\n",
    "words4 = [fn(a) for a in words]\n",
    "words4\n",
    "\n",
    "ls2 =[1, 4, 9, 16, 25, 36, 49, 64, 81, 100]\n",
    "ls3 = [i for i in ls2 if i%2==0]\n",
    "ls3\n",
    "ls4 = [i+j for i in \"abc\" for j in 'abc' if i != j]\n",
    "ls4"
   ]
  },
  {
   "cell_type": "code",
   "execution_count": 8,
   "id": "7f4eb4a9",
   "metadata": {},
   "outputs": [
    {
     "data": {
      "text/plain": [
       "['.ipynb_checkpoints',\n",
       " '1.Python从0到1（一）.pdf',\n",
       " '1python.ipynb',\n",
       " '2.Python从0到1（二）.pdf',\n",
       " '2python.html',\n",
       " '2python.ipynb',\n",
       " '2python.pdf',\n",
       " 'python基础.md']"
      ]
     },
     "execution_count": 8,
     "metadata": {},
     "output_type": "execute_result"
    }
   ],
   "source": [
    "import os\n",
    "[n for n in os.listdir(\".\")]"
   ]
  },
  {
   "cell_type": "code",
   "execution_count": 9,
   "id": "fba2898e",
   "metadata": {},
   "outputs": [
    {
     "data": {
      "text/plain": [
       "['x=A', 'y=B', 'z=C']"
      ]
     },
     "execution_count": 9,
     "metadata": {},
     "output_type": "execute_result"
    }
   ],
   "source": [
    "d = {'x': 'A', 'y': 'B', 'z': 'C' }\n",
    "[k + '=' + v for k, v in d.items()]"
   ]
  },
  {
   "cell_type": "code",
   "execution_count": null,
   "id": "8fe24853",
   "metadata": {},
   "outputs": [],
   "source": [
    "# # 生成器\n",
    "# 如果列表元素可以按照某种算法推算出来，那我们是否可以在循环的过程中不断推算出后续的元素呢？\n",
    "# 这样就不必创建完整的list，从而节省大量的空间。\n",
    "# generator = (x*x for x in range(5))\n",
    "# for i in generator:\n",
    "#     print(i)\n",
    "\n",
    "def fib(max):\n",
    "    a,b,c = 0,0,1\n",
    "    while a<max:\n",
    "       print(c) \n",
    "       b,c = c,b+c\n",
    "       a+=1 #a是循环次数\n",
    "fib(10)"
   ]
  },
  {
   "cell_type": "code",
   "execution_count": null,
   "id": "99f339bb",
   "metadata": {},
   "outputs": [],
   "source": [
    "#如果一个函数定义中包含 yield 关键字，那么这个函数就不再是一个普\n",
    "# 通函数，而是一个generator函数，调用一个generator函数将返回一个generator：\n",
    "def fib(max):\n",
    "    a,b,c = 0,0,1\n",
    "    while a<max:\n",
    "       yield c \n",
    "       b,c = c,b+c\n",
    "       a+=1 #a是循环次数\n",
    "    return \"结束\"\n",
    "o = fib(10)    \n",
    "print(next(o))\n",
    "print(next(o))\n",
    "print(next(o))\n",
    "# fib(10)\n",
    "# #这里，最难理解的就是generator函数和普通函数的执行流程不一样。普通函数是顺序执行，遇到 return 语句\n",
    "# 或者最后一行函数语句就返回。而变成generator的函数，在每次调用 next() 的时候执行，遇到 yield 语句\n",
    "# 返回，再次执行时从上次返回的 yield 语句处继续执行。\n",
    "\n",
    "for n in fib(10):\n",
    "    print(n)\n",
    "    \n",
    "# for 循环调用generator时，发现拿不到generator的 return 语句的返回值。如果想要拿到返回值，必\n",
    "# 须捕获 StopIteration 错误，返回值包含在 StopIteration 的 value 中：\n",
    "\n",
    "g = fib(6)\n",
    "while True:\n",
    "    try:\n",
    "        x = next(g)\n",
    "        print(x)\n",
    "    except StopIteration as e:\n",
    "        print(e.value)\n",
    "        break\n",
    "\n",
    "#yield关键字，与next()语句配套使用，它仅仅告诉Python解释器，在我这里暂停而不是终止，\n",
    "#并返回yield关键字后面变量的值。当执行next()语句后，函数会继续执行，并再次遇到yield关键字是暂停。\n"
   ]
  },
  {
   "cell_type": "code",
   "execution_count": 11,
   "id": "898afa1c",
   "metadata": {},
   "outputs": [
    {
     "data": {
      "text/plain": [
       "True"
      ]
     },
     "execution_count": 11,
     "metadata": {},
     "output_type": "execute_result"
    }
   ],
   "source": [
    "# 迭代器\n",
    "#list 、 tuple 、 dict 、 set 、 str、 generator ，带 yield 的generator function 都是可迭代对象： Iterable\n",
    "#可以被 next() 函数调用并不断返回下一个值的对象称为迭代器： Iterator 。就只有 generator ，带 yield 的generator function\n",
    "from collections.abc import Iterator\n",
    "isinstance((x for x in range(10)), Iterator)\n",
    "#生成器都是 Iterator 对象，但 list 、 dict 、 str 虽然是 Iterable ，却不是 Iterator 。\n",
    "#把 list 、 dict 、 str 等 Iterable 变成 Iterator 可以使用 iter() 函数：   \n",
    "isinstance(iter([]),Iterator)   "
   ]
  },
  {
   "cell_type": "code",
   "execution_count": 15,
   "id": "fdad7134",
   "metadata": {},
   "outputs": [
    {
     "data": {
      "text/plain": [
       "[1, 4, 16, 25]"
      ]
     },
     "execution_count": 15,
     "metadata": {},
     "output_type": "execute_result"
    }
   ],
   "source": [
    "#高阶函数\n",
    "# f = abs\n",
    "# f(-1)\n",
    "def add(x,y,f):\n",
    "    return f(x)+f(y)\n",
    "add(-5,6,abs)\n",
    "\n",
    "def f(x):\n",
    "    return x*x\n",
    "\n",
    "r = map(lambda x:x*x,[1,2,4,5])\n",
    "list(r)\n",
    "# list(map(str,[1,2,3,4]))\n",
    "# r"
   ]
  },
  {
   "cell_type": "code",
   "execution_count": null,
   "id": "5deefdc2",
   "metadata": {},
   "outputs": [],
   "source": [
    "#reduce函数\n",
    "from functools import reduce\n",
    "reduce(lambda x,y:x+y,[1,2,3,4])\n",
    "#filter函数\n",
    "list(filter(lambda x:x%2,[1,2,4,45,66]))\n",
    "list(filter(lambda x:x,[1,0,\"\",None,66]))\n",
    "#sorted函数\n",
    "sorted(['Bac',\"acs\",\"bdc\"],key=str.lower) #转小写排序\n",
    "sorted([34,-1,4,0,-3],key=abs) #转绝对值排序\n",
    "sorted([34,-1,4,0,-3],key=abs,reverse=True) #倒序\n"
   ]
  },
  {
   "cell_type": "code",
   "execution_count": null,
   "id": "e15b20dd",
   "metadata": {},
   "outputs": [],
   "source": [
    "#返回函数\n",
    "def lazy_sum():\n",
    "    def sum(*arg):\n",
    "        total = 0\n",
    "        for i in arg:\n",
    "            total+=i\n",
    "        return total\n",
    "    return sum\n",
    "\n",
    "lazy_sum()(1,4,5,7)\n"
   ]
  },
  {
   "cell_type": "code",
   "execution_count": null,
   "id": "b6cfbc87",
   "metadata": {},
   "outputs": [],
   "source": [
    "#闭包\n",
    "def count():\n",
    "    def f(j):\n",
    "        def g():\n",
    "            return j**2\n",
    "        \n",
    "        return g\n",
    "    \n",
    "    fs = []\n",
    "    for i in range(1,4):\n",
    "        fs.append(f(i)) #得到执行后的值g函数，再加入到列表\n",
    "    return fs #返回完整列表\n",
    "f1,f2,f3 = count()\n",
    "f1()\n",
    "f2()\n",
    "f3()"
   ]
  },
  {
   "cell_type": "code",
   "execution_count": 19,
   "id": "326d77ed",
   "metadata": {},
   "outputs": [
    {
     "data": {
      "text/plain": [
       "102"
      ]
     },
     "execution_count": 19,
     "metadata": {},
     "output_type": "execute_result"
    }
   ],
   "source": [
    "#nonloca\n",
    "# 对于闭包，内层函数可以读取外层函数的变量，但是如果在内部函数中尝\n",
    "# 试进行修改外部变量，且外部变量为不可变类型，则需要在变量前\n",
    "# 加nonlocal，如果变量为可变类型，则不需要添加nonlocal。\n",
    "def inc():\n",
    "    x = 100\n",
    "    def fn():\n",
    "        nonlocal x\n",
    "        x = x + 1\n",
    "        return x\n",
    "    return fn\n",
    "\n",
    "f = inc()\n",
    "f()\n",
    "f()"
   ]
  },
  {
   "cell_type": "code",
   "execution_count": 20,
   "id": "559f50cc",
   "metadata": {},
   "outputs": [
    {
     "name": "stdout",
     "output_type": "stream",
     "text": [
      "装饰器先执行\n",
      "函数体内容后执行\n"
     ]
    }
   ],
   "source": [
    "#装饰器\n",
    "# 定义装饰器decorator，，，func：需要装饰的函数\n",
    "def decorator(func):\n",
    "    print('装饰器先执行')\n",
    "    #装饰器内容执行完成后，需返回work函数，才会继续执行\n",
    "    return func\n",
    "\n",
    "@decorator\n",
    "def work():\n",
    "    print('函数体内容后执行')\n",
    "    \n",
    "work()"
   ]
  },
  {
   "cell_type": "code",
   "execution_count": 21,
   "id": "ef592a73",
   "metadata": {},
   "outputs": [
    {
     "name": "stdout",
     "output_type": "stream",
     "text": [
      "装饰器先执行,他是步骤000\n",
      "添加新功能,他是步骤11111\n",
      "函数体内容后执行,他是步骤22222\n",
      "添加新功能,他是步骤3333\n"
     ]
    }
   ],
   "source": [
    "def decorator(func):\n",
    "    print('装饰器先执行,他是步骤000')\n",
    "    #也可以通过内部函数给 work函数添加新功能，在不破坏work的情况下\n",
    "    def abcd():\n",
    "        print('添加新功能,他是步骤11111')\n",
    "        func() #如果讲究顺序，可以把work函数在指定位置执行掉\n",
    "        print('添加新功能,他是步骤3333')\n",
    "#       return func() 如果就是后执行，也就可以return它\n",
    "    return abcd\n",
    "\n",
    "@decorator\n",
    "def work():\n",
    "    print('函数体内容后执行,他是步骤22222')\n",
    "    \n",
    "work()"
   ]
  },
  {
   "cell_type": "code",
   "execution_count": 22,
   "id": "bf14a5e1",
   "metadata": {},
   "outputs": [
    {
     "name": "stdout",
     "output_type": "stream",
     "text": [
      "现在计算的是： 1 + 2\n",
      "3\n"
     ]
    }
   ],
   "source": [
    "# 装饰器\n",
    "def decorator(func):\n",
    "    # 内部函数：所返回的函数，参数要一致\n",
    "    def inner(a, b):\n",
    "        # 在内部函数对需要装饰的函数进行装饰\n",
    "        print(\"现在计算的是：\", a, \"+\", b)\n",
    "        func(a, b)\n",
    "    # 外部函数返回内部函数\n",
    "    return inner\n",
    "\n",
    "\n",
    "# 计算两个数之和\n",
    "@decorator\n",
    "def add_num(a, b):\n",
    "    print(a + b)\n",
    "    \n",
    "add_num(1,2)"
   ]
  },
  {
   "cell_type": "code",
   "execution_count": null,
   "id": "8e7c62b3",
   "metadata": {},
   "outputs": [],
   "source": [
    "#模块\n",
    "\n",
    "# private函数和变量“不应该”被直接引用，而不是“不能”被直接引用，是因为Python并没有一种方\n",
    "# 法可以完全限制访问private函数或变量，但是，从编程习惯上不应该引用private函数或变量。\n",
    "__author__ = 'jack'\n",
    "\n",
    "def test():\n",
    "    pass\n",
    "\n",
    "if __name__ == '__main__':\n",
    "    test()\n",
    "\n",
    "# Python解释器把一个特殊变量 __name__ 置为 __main__ ，而如果\n",
    "# 在其他地方导入该 该 模块时， if 判断将失败，因此，这种 if 测试可以让一个模块通过命令行运行时执\n",
    "# 行一些额外的代码，最常见的就是运行测试代码。"
   ]
  },
  {
   "cell_type": "code",
   "execution_count": 23,
   "id": "7b7ed864",
   "metadata": {},
   "outputs": [
    {
     "name": "stdout",
     "output_type": "stream",
     "text": [
      "今天是:2023年11月27日，星期天\n",
      "现在是:15:52:44\n",
      "距离活动结束还有：-136天 9:30:15\n",
      "距离活动结束还有：-136天 9:30:14\n",
      "距离活动结束还有：-136天 9:30:13\n",
      "距离活动结束还有：-136天 9:30:12\n",
      "距离活动结束还有：-136天 9:30:11\n",
      "距离活动结束还有：-136天 9:30:10\n",
      "距离活动结束还有：-136天 9:30:9\n",
      "距离活动结束还有：-136天 9:30:8\n",
      "距离活动结束还有：-136天 9:30:7\n",
      "距离活动结束还有：-136天 9:30:6\n"
     ]
    }
   ],
   "source": [
    "#时间处理\n",
    "from datetime import datetime\n",
    "import threading\n",
    "import math\n",
    "i = datetime.now()\n",
    "week = '天一二三四五六'\n",
    "print(\"今天是:{}年{}月{}日，星期{}\".format(i.year,i.month,i.day,week[i.weekday()]))\n",
    "print(\"现在是:{}:{}:{}\".format(i.hour,i.minute,i.second))\n",
    "#时间差\n",
    "def run():\n",
    "    start = datetime.now()\n",
    "    end = datetime.strptime(\"2023-07-15 1:23:00\",\"%Y-%m-%d %H:%M:%S\")\n",
    "    duration = end-start\n",
    "    print(\"距离活动结束还有：{}天 {}:{}:{}\".format(duration.days,math.floor(duration.seconds/3600),math.floor(duration.seconds%3600/60),duration.seconds%60))\n",
    "    timer = threading.Timer(1, run)  # 设置一个定时器，循环输出时间\n",
    "    timer.start()\n",
    "run()"
   ]
  },
  {
   "cell_type": "code",
   "execution_count": 2,
   "id": "3b5ae4b3",
   "metadata": {
    "scrolled": true
   },
   "outputs": [
    {
     "name": "stdout",
     "output_type": "stream",
     "text": [
      "4\n",
      "io编程\n"
     ]
    }
   ],
   "source": [
    "# IO编程\n",
    "with open(r\"1.txt\",'w') as f:\n",
    "    res = f.write(\"io编程\")\n",
    "    print(res)\n",
    "    \n",
    "with open(r\"1.txt\",'r') as f:\n",
    "    res = f.read()\n",
    "    print(res)"
   ]
  },
  {
   "cell_type": "code",
   "execution_count": null,
   "id": "1d7888e7",
   "metadata": {},
   "outputs": [],
   "source": []
  }
 ],
 "metadata": {
  "kernelspec": {
   "display_name": "Python 3 (ipykernel)",
   "language": "python",
   "name": "python3"
  },
  "language_info": {
   "codemirror_mode": {
    "name": "ipython",
    "version": 3
   },
   "file_extension": ".py",
   "mimetype": "text/x-python",
   "name": "python",
   "nbconvert_exporter": "python",
   "pygments_lexer": "ipython3",
   "version": "3.10.9"
  }
 },
 "nbformat": 4,
 "nbformat_minor": 5
}
