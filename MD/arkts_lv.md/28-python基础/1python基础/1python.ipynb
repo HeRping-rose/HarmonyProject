{
 "cells": [
  {
   "cell_type": "code",
   "execution_count": 5,
   "id": "cbe8c71b",
   "metadata": {},
   "outputs": [
    {
     "data": {
      "text/plain": [
       "'\\n多行注释，也可原样显示中间可能的特殊符号\\n如,\\\\~`;,?><>\\n'"
      ]
     },
     "execution_count": 5,
     "metadata": {},
     "output_type": "execute_result"
    }
   ],
   "source": [
    "\"\"\"\n",
    "多行注释，也可原样显示中间可能的特殊符号\n",
    "如,\\~`;,?><>\n",
    "\"\"\""
   ]
  },
  {
   "cell_type": "code",
   "execution_count": 6,
   "id": "7722dbeb",
   "metadata": {},
   "outputs": [
    {
     "name": "stdout",
     "output_type": "stream",
     "text": [
      "100\n"
     ]
    }
   ],
   "source": [
    "#打印绝对值\n",
    "a = 100\n",
    "if a>=0:\n",
    "    print(a)\n",
    "else:\n",
    "    print(-a)"
   ]
  },
  {
   "cell_type": "code",
   "execution_count": 1,
   "id": "45be99e2",
   "metadata": {},
   "outputs": [
    {
     "name": "stdout",
     "output_type": "stream",
     "text": [
      "输入第一个数1\n",
      "输入第二个数0\n",
      "+-*//\n",
      "除数必须为零\n",
      "结束\n"
     ]
    }
   ],
   "source": [
    "try:\n",
    "    n1 = int(input('输入第一个数'))\n",
    "    n2 = int(input('输入第二个数'))\n",
    "    option = input('+-*/')\n",
    "    if option == \"+\":\n",
    "        print(n1+n2)\n",
    "    elif option == \"-\":\n",
    "        print(n1-n2)\n",
    "    elif option == \"*\":\n",
    "        print(n1*n2)\n",
    "    elif option == \"/\":\n",
    "        print(n1/n2)\n",
    "    else:\n",
    "        print('输入的运算符不正确')\n",
    "except ValueError:\n",
    "    print('输入的值必须是数字')\n",
    "except ZeroDivisionError:\n",
    "    print('除数必须为零')\n",
    "# except:\n",
    "#     print('未知异常')\n",
    "finally:\n",
    "    print('结束')"
   ]
  },
  {
   "cell_type": "code",
   "execution_count": 16,
   "id": "977325f7",
   "metadata": {},
   "outputs": [
    {
     "data": {
      "text/plain": [
       "'\\n异常名    描述\\n\\nAttributeError 调用不存在的方法引发的异常\\n\\nEOFError     遇到文件末尾引发的异常\\n\\nImportError 导入模块出错引发的异常\\n\\nIndexError     列表越界引发的异常\\n\\nIOError     I/O操作引发的异常，如打开文件出错等\\n\\nKeyError   使用字典中不存在的关键字引发的异常\\n\\nNameError 使用不存在的变量名引发的异常\\n\\nTabError 语句块缩进不正确引发的异常\\n\\nValueError 搜索列表中不存在的值引发的异常\\n\\nZeroDivisionError   除数为零引发的异常\\n\\n'"
      ]
     },
     "execution_count": 16,
     "metadata": {},
     "output_type": "execute_result"
    }
   ],
   "source": [
    "\"\"\"\n",
    "异常名    描述\n",
    "\n",
    "AttributeError 调用不存在的方法引发的异常\n",
    "\n",
    "EOFError     遇到文件末尾引发的异常\n",
    "\n",
    "ImportError 导入模块出错引发的异常\n",
    "\n",
    "IndexError     列表越界引发的异常\n",
    "\n",
    "IOError     I/O操作引发的异常，如打开文件出错等\n",
    "\n",
    "KeyError   使用字典中不存在的关键字引发的异常\n",
    "\n",
    "NameError 使用不存在的变量名引发的异常\n",
    "\n",
    "TabError 语句块缩进不正确引发的异常\n",
    "\n",
    "ValueError 搜索列表中不存在的值引发的异常\n",
    "\n",
    "ZeroDivisionError   除数为零引发的异常\n",
    "\n",
    "\"\"\""
   ]
  },
  {
   "cell_type": "code",
   "execution_count": 7,
   "id": "b5998213",
   "metadata": {},
   "outputs": [
    {
     "name": "stdout",
     "output_type": "stream",
     "text": [
      "请输入成绩33\n",
      "成绩是33,还差27及格\n"
     ]
    }
   ],
   "source": [
    "grade = int(input('请输入成绩'))\n",
    "if 90<= grade <=100:\n",
    "    print('成绩是:',grade,'优秀')\n",
    "if 70<=grade<=89:\n",
    "    #sep、end可以添加设置间隔和结尾字符格式\n",
    "    print('成绩',grade,'良好',sep='\\n',end='!'*3)\n",
    "if 60<=grade<=69:\n",
    "    print('成绩是:{}，及格了'.format(grade))\n",
    "else:\n",
    "    print(f'成绩是{grade},还差{60-grade}分及格')"
   ]
  },
  {
   "cell_type": "code",
   "execution_count": 22,
   "id": "91c5f9aa",
   "metadata": {},
   "outputs": [
    {
     "name": "stdout",
     "output_type": "stream",
     "text": [
      "===================================\n",
      "\t姓名: dongGe\n",
      "\tQQ:xxxxxxxxxx\n",
      "\t手机号:131xxxxxx\n",
      "\t公司地址:北京市xxxx\n",
      "===================================\n"
     ]
    }
   ],
   "source": [
    "#小练习：编写代码完成以下名片的显示\n",
    "print(\"=\"*35)\n",
    "print(\"\\t姓名: dongGe\",\"QQ:xxxxxxxxxx\",\"手机号:131xxxxxx\",\"公司地址:北京市xxxx\",sep='\\n\\t')\n",
    "print(\"=\"*35)\n"
   ]
  },
  {
   "cell_type": "code",
   "execution_count": 23,
   "id": "619fe308",
   "metadata": {},
   "outputs": [
    {
     "name": "stdout",
     "output_type": "stream",
     "text": [
      "输入一个整数1\n",
      "输入一个整数2\n",
      "输入一个整数3\n",
      "0\n"
     ]
    }
   ],
   "source": [
    "#小练习：任意使用input输入a,b,c三个整数，计算a+b‑c的结果, 并打印出来\n",
    "a = int(input('输入一个整数'))\n",
    "b = int(input('输入一个整数'))\n",
    "c = int(input('输入一个整数'))\n",
    "print(a+b-c)"
   ]
  },
  {
   "cell_type": "code",
   "execution_count": 30,
   "id": "a2928f8b",
   "metadata": {},
   "outputs": [
    {
     "name": "stdout",
     "output_type": "stream",
     "text": [
      "\\n\\b\\t\\s\n"
     ]
    }
   ],
   "source": [
    "#数据类型\n",
    "print(r\"\\n\\b\\t\\s\")  #r可以让字符中的特殊字符不转义"
   ]
  },
  {
   "cell_type": "code",
   "execution_count": 34,
   "id": "c857a8aa",
   "metadata": {},
   "outputs": [
    {
     "name": "stdout",
     "output_type": "stream",
     "text": [
      "6\n",
      "男\n",
      "8\n"
     ]
    }
   ],
   "source": [
    "#运算符\n",
    "print(13//2)  #6取整除\n",
    "print('男'if 3%2 else '女')\n",
    "print(2**3)  #2的三次方"
   ]
  },
  {
   "cell_type": "code",
   "execution_count": 36,
   "id": "7da8f3e6",
   "metadata": {},
   "outputs": [
    {
     "name": "stdout",
     "output_type": "stream",
     "text": [
      "117.12\n"
     ]
    }
   ],
   "source": [
    "#练习题:\n",
    "#一个苹果的价格是10元, 一个梨的价格是12元, 如果买6个苹果, 三个梨, 需缴纳交易税为22%, 总共需要花费多少钱?\n",
    "apple_price = 10\n",
    "pear_price = 12\n",
    "print((apple_price*6+pear_price*3)*1.22)"
   ]
  },
  {
   "cell_type": "code",
   "execution_count": 37,
   "id": "b79abde4",
   "metadata": {},
   "outputs": [
    {
     "name": "stdout",
     "output_type": "stream",
     "text": [
      "8\n"
     ]
    }
   ],
   "source": [
    "\"\"\"练习题\n",
    "用普通运算符和复合运算符分别计算以下问题：\n",
    "有一个数字，数字的值为12，让这个数字在原有的基础上减去2，求减去后的结果是多少\"\"\"\n",
    "num = 12\n",
    "num = num - 2\n",
    "num-=2\n",
    "print(num)"
   ]
  },
  {
   "cell_type": "code",
   "execution_count": 42,
   "id": "9384d7ed",
   "metadata": {},
   "outputs": [
    {
     "name": "stdout",
     "output_type": "stream",
     "text": [
      "q\n",
      "2\n",
      "False\n"
     ]
    }
   ],
   "source": [
    "#逻辑运算符\n",
    "a = input()\n",
    "b = input()\n",
    "print((isinstance(a,int) and isinstance(b,int))"
   ]
  },
  {
   "cell_type": "code",
   "execution_count": 51,
   "id": "5710fc30",
   "metadata": {},
   "outputs": [
    {
     "name": "stdout",
     "output_type": "stream",
     "text": [
      "True\n",
      "True\n",
      "True\n",
      "False\n",
      "True\n",
      "False\n",
      "True\n"
     ]
    },
    {
     "data": {
      "text/plain": [
       "5"
      ]
     },
     "execution_count": 51,
     "metadata": {},
     "output_type": "execute_result"
    }
   ],
   "source": [
    "#特殊运算符\n",
    "a = 100\n",
    "b = 100\n",
    "print(a==b)\n",
    "print(a is b)\n",
    "c = [1,3,5]\n",
    "d = [1,3,5]\n",
    "print(c == d)\n",
    "print(c is d)\n",
    "e = c\n",
    "print(e is c)\n",
    "e = c[:]\n",
    "print(e is c)\n",
    "\n",
    "str = 'hello world'\n",
    "print('wor' in str)\n",
    "\n",
    "arr = [1,3,5,2]\n",
    "max(arr)"
   ]
  },
  {
   "cell_type": "code",
   "execution_count": 56,
   "id": "5c948cc1",
   "metadata": {
    "scrolled": true
   },
   "outputs": [
    {
     "data": {
      "text/plain": [
       "2.464245158943211"
      ]
     },
     "execution_count": 56,
     "metadata": {},
     "output_type": "execute_result"
    }
   ],
   "source": [
    "#根号\n",
    "import math\n",
    "math.log10(math.sqrt(5)+math.pow(17,2))"
   ]
  },
  {
   "cell_type": "code",
   "execution_count": 13,
   "id": "f99e41b1",
   "metadata": {},
   "outputs": [
    {
     "name": "stdout",
     "output_type": "stream",
     "text": [
      "'布尔'的英文是bool\n",
      "布尔的英文是bool\n",
      "     12456\n",
      "     12456\n",
      "000012456\n",
      "   +12456\n",
      "140.500000\n"
     ]
    }
   ],
   "source": [
    "#格式化输出\n",
    "bool = \"布尔\"\n",
    "print(\"%r的英文是bool\"%bool) # %r会显示成引号 repr()\n",
    "bool2 = \"布尔\"\n",
    "print(\"%s的英文是bool\"%bool) # %s不会显示成引号 str()\n",
    "\n",
    "n = 12456\n",
    "print('%10d'%n)\n",
    "print('%10s'%n)\n",
    "print('%09d'%n) #最小宽度为9，左边补零\n",
    "print('%+9d'%n) #最小宽度为9，左边带一个+\n",
    "f = 140.5\n",
    "print(\"%10f\"%f)"
   ]
  },
  {
   "cell_type": "code",
   "execution_count": 15,
   "id": "b4dbedbf",
   "metadata": {},
   "outputs": [
    {
     "name": "stdout",
     "output_type": "stream",
     "text": [
      "   3.145\n",
      "0003.145\n",
      "+003.145\n"
     ]
    }
   ],
   "source": [
    "f = 3.1446567\n",
    "print(\"%8.3f\" % f) #最小宽度为8，保留三位小数\n",
    "print(\"%08.3f\" % f) #最小宽度为8，保留三位小数，左边补零\n",
    "print(\"%+08.3f\" % f)  #最小宽度为8，保留三位小数，左边补零，+"
   ]
  },
  {
   "cell_type": "code",
   "execution_count": 6,
   "id": "fa572ca2",
   "metadata": {},
   "outputs": [
    {
     "name": "stdout",
     "output_type": "stream",
     "text": [
      "\"Artificial\\n intelligence\"的缩写是字母A和I\n"
     ]
    }
   ],
   "source": [
    "print(r'\"Artificial\\n intelligence\"的缩写是字母{}和{}'.format('A', 'I'))\n",
    "#左边带r 不转义"
   ]
  },
  {
   "cell_type": "code",
   "execution_count": 8,
   "id": "6ae05330",
   "metadata": {},
   "outputs": [
    {
     "name": "stdout",
     "output_type": "stream",
     "text": [
      "['orange', 'pear', 'banana']\n"
     ]
    }
   ],
   "source": [
    "#list\n",
    "fruit = ['apple','pear','banana']\n",
    "fruit.append('grape')\n",
    "fruit.insert(1,'orange')\n",
    "fruit.pop()\n",
    "fruit.pop(0)\n",
    "print(fruit)"
   ]
  },
  {
   "cell_type": "code",
   "execution_count": 25,
   "id": "d190d596",
   "metadata": {},
   "outputs": [
    {
     "name": "stdout",
     "output_type": "stream",
     "text": [
      "(1,)\n",
      "('b', 'c', ['w', 'd'])\n"
     ]
    }
   ],
   "source": [
    "\"\"\"tuple\n",
    "另一种有序列表叫元组：tuple。tuple和list非常类似，但是tuple一旦初始化就不能修改\n",
    "不可变的tuple有什么意义？因为tuple不可变，所以代码更安全。如果可能，能用tuple代替list就尽量用tuple。\n",
    "uple的陷阱：当你定义一个tuple时，在定义的时候，tuple的元素就必须被确定下来\n",
    "定义的不是tuple，是1这个数！这是因为括号()既可以表示tuple，又可以表示数学公式中的小括号，这就产生了\n",
    "歧义，因此，Python规定，这种情况下，按小括号进行计算，计算结果自然是1。所以，只有1个元素的tuple定\n",
    "义时必须加一个逗号 , ，来消除歧义：\"\"\"\n",
    "t = (1,)\n",
    "print(t)\n",
    "\n",
    "t = (\"b\",\"c\",[\"a\",\"d\"])\n",
    "t[2][0] = \"w\"\n",
    "print(t)"
   ]
  },
  {
   "cell_type": "code",
   "execution_count": 9,
   "id": "a0d39a39",
   "metadata": {},
   "outputs": [
    {
     "name": "stdout",
     "output_type": "stream",
     "text": [
      "输入年份\n",
      "请输入年份数字\n"
     ]
    }
   ],
   "source": [
    "#练习：if语句练习题 输入年份，判断是否是闰\n",
    "try:\n",
    "    year = int(input('输入年份'))\n",
    "    print('是闰年'if year%400==0 or (year%4==0 and year%100) else'不是闰年')\n",
    "except ValueError:\n",
    "    print('请输入年份数字')"
   ]
  },
  {
   "cell_type": "code",
   "execution_count": 36,
   "id": "adc45df0",
   "metadata": {},
   "outputs": [
    {
     "name": "stdout",
     "output_type": "stream",
     "text": [
      "2450\n",
      "2500\n"
     ]
    }
   ],
   "source": [
    "#for 偶数和\n",
    "sum = 0\n",
    "for i in range(0,100,2):\n",
    "    sum+=i\n",
    "print(sum)\n",
    "\n",
    "#while奇数和\n",
    "sum2 = 0\n",
    "n=99\n",
    "while n>0:\n",
    "    sum2+=n\n",
    "    n-=2\n",
    "print(sum2)"
   ]
  },
  {
   "cell_type": "code",
   "execution_count": 40,
   "id": "2b95e231",
   "metadata": {},
   "outputs": [
    {
     "name": "stdout",
     "output_type": "stream",
     "text": [
      "['apple', '梨子', 'banana', 'orange']\n",
      "1\n",
      "3\n",
      "5\n"
     ]
    }
   ],
   "source": [
    "#break\n",
    "fruit = ['apple','pear','banana','orange']\n",
    "for i in range(len(fruit)):\n",
    "    if fruit[i]=='pear':\n",
    "        fruit[i] = '梨子'\n",
    "        break\n",
    "print(fruit)\n",
    "\n",
    "#continue\n",
    "n =0\n",
    "while n<5:\n",
    "    n=n+1\n",
    "    if not n%2:\n",
    "        continue\n",
    "    print(n)"
   ]
  },
  {
   "cell_type": "code",
   "execution_count": 48,
   "id": "4fa1d3f7",
   "metadata": {},
   "outputs": [
    {
     "name": "stdout",
     "output_type": "stream",
     "text": [
      "cba\n",
      "cba\n"
     ]
    }
   ],
   "source": [
    "#小练习： 给定一个字符串, 通过循环将字符串反转，例如：输入'abc'，输出‘cba’\n",
    "str = \"abc\"\n",
    "res = []\n",
    "for i in str:\n",
    "    res.insert(0,i)\n",
    "print(''.join(res))\n",
    "\n",
    "n = len(str)\n",
    "res2=\"\"\n",
    "while n > 0:\n",
    "    n-=1\n",
    "    res2+=str[n]\n",
    "print(res2)"
   ]
  },
  {
   "cell_type": "code",
   "execution_count": 49,
   "id": "be736e61",
   "metadata": {},
   "outputs": [
    {
     "name": "stdout",
     "output_type": "stream",
     "text": [
      "0\n",
      "3\n",
      "6\n",
      "9\n",
      "12\n",
      "15\n",
      "18\n"
     ]
    }
   ],
   "source": [
    "#小练习:打印1～20的整数中所有3的倍\n",
    "for i in range(0,20,3):\n",
    "    print(i)"
   ]
  },
  {
   "cell_type": "code",
   "execution_count": 53,
   "id": "69cbff64",
   "metadata": {},
   "outputs": [
    {
     "name": "stdout",
     "output_type": "stream",
     "text": [
      "68\n",
      "72\n",
      "85\n",
      "92\n",
      "87\n",
      "67\n",
      "成绩异常\n",
      "98\n",
      "88\n"
     ]
    }
   ],
   "source": [
    "#break/continue小练习\n",
    "score = [68, 72, 85, 44, 38, 92, 87, 67, -32, 98, 88]\n",
    "for i in score:\n",
    "    if i>=60 and i<=100:\n",
    "        print(i)\n",
    "    elif i<0 or i>100:\n",
    "        print('成绩异常')"
   ]
  },
  {
   "cell_type": "code",
   "execution_count": 62,
   "id": "416aead9",
   "metadata": {},
   "outputs": [
    {
     "name": "stdout",
     "output_type": "stream",
     "text": [
      "小明\n",
      "{'name': '小明', 'pwd': '123', 'avatar': '1.jpg'}\n",
      "-1\n",
      "{'name': '小明', 'pwd': '123'}\n"
     ]
    }
   ],
   "source": [
    "#disc字典\n",
    "user = {'name':'小明','pwd':'123'}\n",
    "print(user['name'])\n",
    "if 'avatar' in user:\n",
    "    print(user['avatar'])\n",
    "else:\n",
    "    user['avatar'] = \"1.jpg\"\n",
    "print(user)\n",
    "\n",
    "print(user.get('address',-1)) #不存在默认返回none,也可以指定\n",
    "\n",
    "user.pop('avatar')\n",
    "print(user)"
   ]
  },
  {
   "cell_type": "code",
   "execution_count": 75,
   "id": "07da72ae",
   "metadata": {},
   "outputs": [
    {
     "name": "stdout",
     "output_type": "stream",
     "text": [
      "{1, 2, 3, 5}\n",
      "{1, 2, 3}\n",
      "{1, 2, 3, 4, 5, 7}\n",
      "['a', 'b', 'c']\n"
     ]
    },
    {
     "data": {
      "text/plain": [
       "'Abc'"
      ]
     },
     "execution_count": 75,
     "metadata": {},
     "output_type": "execute_result"
    }
   ],
   "source": [
    "#set集合\n",
    "#set和dict类似，也是一组key的集合，但不存储value。由于key不能重复，所以，在set中，没有重复的key。\n",
    "s = set([1,3,5,2,2,3])\n",
    "\n",
    "s.add(4)\n",
    "s.add(4)\n",
    "s.remove(4)\n",
    "print(s)\n",
    "\n",
    "s2 = set([7,4,3,2,1])\n",
    "print(s&s2) #交集\n",
    "print(s|s2) #并集\n",
    "\n",
    "a = [\"c\",\"b\",\"a\"]\n",
    "a.sort()\n",
    "print(a)\n",
    "\n",
    "b = ''.join(a)\n",
    "b = b.replace('a',\"A\")\n",
    "b"
   ]
  },
  {
   "cell_type": "code",
   "execution_count": 87,
   "id": "67d59f67",
   "metadata": {},
   "outputs": [
    {
     "name": "stdout",
     "output_type": "stream",
     "text": [
      "我自己,终于让自己属于,事到如今,不愿那是悲伤的哭泣,想念如果会有声音,听到你的消息,最怕忽然,不平息,突然翻滚绞痛着,最怕朋友突然的关心,最怕空气突然安静\n"
     ]
    }
   ],
   "source": [
    "#练习\n",
    "L = ['最怕空气突然安静','最怕朋友突然的关心','最怕回忆','突然翻滚绞痛着','不平息','最怕忽然','听到你的消息']\n",
    "M = ['想念如果会有声音','不愿那是悲伤的哭泣','终于让自己属于','我自己']\n",
    "lyric = L+M\n",
    "lyric.insert(-2,\"事到如今\")\n",
    "if '最怕回忆' in lyric:\n",
    "   del lyric[lyric.index('最怕回忆')]\n",
    "lyric.reverse()\n",
    "print(\",\".join(lyric))"
   ]
  },
  {
   "cell_type": "code",
   "execution_count": 88,
   "id": "cc9f1412",
   "metadata": {},
   "outputs": [
    {
     "name": "stdout",
     "output_type": "stream",
     "text": [
      "raymond,rachel,matthew,roger,betty,melissa,judith,charlie\n"
     ]
    }
   ],
   "source": [
    "#小应用: 使用for循环把列表中的元素拼接成字符串,使用逗号分隔\n",
    "names = ['raymond', 'rachel', 'matthew', 'roger',\n",
    "'betty', 'melissa', 'judith', 'charlie']\n",
    "print(','.join(names))"
   ]
  },
  {
   "cell_type": "code",
   "execution_count": 12,
   "id": "95701e54",
   "metadata": {},
   "outputs": [
    {
     "name": "stdout",
     "output_type": "stream",
     "text": [
      "dict_keys(['k1', 'k2', 'k3'])\n",
      "dict_values(['v1', 'v2', 'v3'])\n",
      "dict_items([('k1', 'v1'), ('k2', 'v2'), ('k3', 'v3')])\n",
      "k1:v1\n",
      "k2:v2\n",
      "k3:v3\n",
      "{'k1': 'v1v1', 'k2': 'v2v2', 'k3': 'v3v3'}\n"
     ]
    }
   ],
   "source": [
    "# 练习题：\n",
    "dict = {\"k1\":\"v1\",\"k2\":\"v2\",\"k3\":\"v3\"}\n",
    "print(dict.keys())\n",
    "print(dict.values())\n",
    "print(dict.items())\n",
    "\n",
    "for k,v in dict.items():\n",
    "    print(k,v,sep=\":\")\n",
    "    dict[k] = v*2\n",
    "print(dict)"
   ]
  },
  {
   "cell_type": "code",
   "execution_count": 21,
   "id": "17021b22",
   "metadata": {},
   "outputs": [
    {
     "data": {
      "text/plain": [
       "set()"
      ]
     },
     "execution_count": 21,
     "metadata": {},
     "output_type": "execute_result"
    }
   ],
   "source": [
    "# 练习题：\n",
    "# 有元组 \n",
    "T = ('A','B','E','F','A','B',\"A\",'B',\"C\")\n",
    "T2 = (\"B\",\"E\",'K','D')\n",
    "\n",
    "Se = set(T)\n",
    "Se = Se | set(T2)\n",
    "Se.add(\"Z\")\n",
    "Se.clear()\n",
    "Se\n"
   ]
  },
  {
   "cell_type": "code",
   "execution_count": 23,
   "id": "48b4e9d2",
   "metadata": {},
   "outputs": [],
   "source": [
    "#如果想定义一个什么事也不做的空函数，可以用 pass 语句：缺少了 pass ，代码运行就会有语法错误。\n",
    "\n",
    "def fn():\n",
    "    pass"
   ]
  },
  {
   "cell_type": "code",
   "execution_count": 24,
   "id": "240584bb",
   "metadata": {},
   "outputs": [
    {
     "ename": "TypeError",
     "evalue": "bad operand type",
     "output_type": "error",
     "traceback": [
      "\u001b[1;31m---------------------------------------------------------------------------\u001b[0m",
      "\u001b[1;31mTypeError\u001b[0m                                 Traceback (most recent call last)",
      "Cell \u001b[1;32mIn[24], line 9\u001b[0m\n\u001b[0;32m      7\u001b[0m     \u001b[38;5;28;01melse\u001b[39;00m:\n\u001b[0;32m      8\u001b[0m         \u001b[38;5;28;01mreturn\u001b[39;00m \u001b[38;5;241m-\u001b[39mx\n\u001b[1;32m----> 9\u001b[0m \u001b[43mmy_abs\u001b[49m\u001b[43m(\u001b[49m\u001b[38;5;124;43m\"\u001b[39;49m\u001b[38;5;124;43mA\u001b[39;49m\u001b[38;5;124;43m\"\u001b[39;49m\u001b[43m)\u001b[49m\n",
      "Cell \u001b[1;32mIn[24], line 4\u001b[0m, in \u001b[0;36mmy_abs\u001b[1;34m(x)\u001b[0m\n\u001b[0;32m      2\u001b[0m \u001b[38;5;28;01mdef\u001b[39;00m \u001b[38;5;21mmy_abs\u001b[39m(x):\n\u001b[0;32m      3\u001b[0m     \u001b[38;5;28;01mif\u001b[39;00m \u001b[38;5;129;01mnot\u001b[39;00m \u001b[38;5;28misinstance\u001b[39m(x,(\u001b[38;5;28mint\u001b[39m,\u001b[38;5;28mfloat\u001b[39m)):\n\u001b[1;32m----> 4\u001b[0m         \u001b[38;5;28;01mraise\u001b[39;00m \u001b[38;5;167;01mTypeError\u001b[39;00m(\u001b[38;5;124m'\u001b[39m\u001b[38;5;124mbad operand type\u001b[39m\u001b[38;5;124m'\u001b[39m)\n\u001b[0;32m      5\u001b[0m     \u001b[38;5;28;01mif\u001b[39;00m x \u001b[38;5;241m>\u001b[39m\u001b[38;5;241m=\u001b[39m\u001b[38;5;241m0\u001b[39m:\n\u001b[0;32m      6\u001b[0m         \u001b[38;5;28;01mreturn\u001b[39;00m x\n",
      "\u001b[1;31mTypeError\u001b[0m: bad operand type"
     ]
    }
   ],
   "source": [
    "#函数检测 参数类型\n",
    "def my_abs(x):\n",
    "    if not isinstance(x,(int,float)):\n",
    "        raise TypeError('bad operand type')\n",
    "    if x >=0:\n",
    "        return x\n",
    "    else:\n",
    "        return -x\n",
    "my_abs(\"A\")"
   ]
  },
  {
   "cell_type": "code",
   "execution_count": 28,
   "id": "2606d953",
   "metadata": {},
   "outputs": [
    {
     "data": {
      "text/plain": [
       "'B'"
      ]
     },
     "execution_count": 28,
     "metadata": {},
     "output_type": "execute_result"
    }
   ],
   "source": [
    "# 练习题\n",
    "# 练习：编写一个函数\n",
    "# 函数功能: 可以根据输入分数来输出不同的等级\n",
    "# 学习成绩>=90分的同学返回 A ，60‑89分之间返回 B ，60分以下返回 C 。\n",
    "def score(n):\n",
    "    if n>=90:\n",
    "        return \"A\"\n",
    "    if 60<=n<=89:\n",
    "        return \"B\"\n",
    "    else:\n",
    "        return \"C\"\n",
    "    \n",
    "res = score(66)\n",
    "res"
   ]
  },
  {
   "cell_type": "code",
   "execution_count": 30,
   "id": "900cbc94",
   "metadata": {},
   "outputs": [
    {
     "name": "stdout",
     "output_type": "stream",
     "text": [
      "['END']\n",
      "['END']\n",
      "['END']\n"
     ]
    }
   ],
   "source": [
    "def add_end(L=None):\n",
    "    if L is None:\n",
    "        L = []\n",
    "    L.append('END')\n",
    "    return L\n",
    "\n",
    "print(add_end())\n",
    "print(add_end())\n",
    "print(add_end())"
   ]
  },
  {
   "cell_type": "code",
   "execution_count": 31,
   "id": "da44ed01",
   "metadata": {},
   "outputs": [
    {
     "data": {
      "text/plain": [
       "35"
      ]
     },
     "execution_count": 31,
     "metadata": {},
     "output_type": "execute_result"
    }
   ],
   "source": [
    "#可变参数\n",
    "def calc(*arg):  #tuple\n",
    "    sum = 0\n",
    "    for i in arg:\n",
    "        sum+=i*i\n",
    "    return sum\n",
    "calc(1,3,5)\n"
   ]
  },
  {
   "cell_type": "code",
   "execution_count": 35,
   "id": "1184e331",
   "metadata": {},
   "outputs": [
    {
     "data": {
      "text/plain": [
       "14"
      ]
     },
     "execution_count": 35,
     "metadata": {},
     "output_type": "execute_result"
    }
   ],
   "source": [
    "# 小练习\n",
    "# 使用可变参数，写一个函数，不使用python自带的 sum 函数，计算一个列表的加和:\n",
    "ls = [3,2,3,5,1]\n",
    "def sum(*arg):\n",
    "    n = 0\n",
    "    for i in arg:\n",
    "        n+=i\n",
    "    return n\n",
    "sum(*ls)\n"
   ]
  },
  {
   "cell_type": "code",
   "execution_count": 36,
   "id": "c273f5f6",
   "metadata": {},
   "outputs": [
    {
     "name": "stdout",
     "output_type": "stream",
     "text": [
      "gala 22 {'city': 'Beijing', 'job': 'Engineer'}\n"
     ]
    }
   ],
   "source": [
    "extra = {'city': 'Beijing', 'job': 'Engineer'}\n",
    "def person(name,age,**arg):\n",
    "    print(name,age,arg)\n",
    "person('gala',22,**extra)"
   ]
  },
  {
   "cell_type": "code",
   "execution_count": 43,
   "id": "5a6d09b3",
   "metadata": {},
   "outputs": [
    {
     "name": "stdout",
     "output_type": "stream",
     "text": [
      "gala 22 aa df\n",
      "gala 22 beijing df\n"
     ]
    }
   ],
   "source": [
    "#要限制关键字参数的名字，就可以用命名关键字参数,* ,后面的参数被视为命名关键字参数\n",
    "def person(name,age,*,city,job):\n",
    "    print(name,age,city,job)\n",
    "person('gala',22,city='aa',job='df')\n",
    "\n",
    "def person(name,age,*,city='beijing',job):\n",
    "    print(name,age,city,job)\n",
    "person('gala',22,job='df')"
   ]
  },
  {
   "cell_type": "code",
   "execution_count": 50,
   "id": "a3d5b9c7",
   "metadata": {},
   "outputs": [
    {
     "name": "stdout",
     "output_type": "stream",
     "text": [
      "1 2 3 (4, 5) {'k': 1}\n",
      "None\n",
      "1 1 1 (1,) {'k': 2, 'g': 3}\n"
     ]
    }
   ],
   "source": [
    "#参数组合\n",
    "def f1(a, b, c=0, *args, **kw):\n",
    "    print(a,b,c,args,kw)\n",
    "\n",
    "print(f1(1,2,3,4,5,k=1))\n",
    "arg = (1,1,1,1)\n",
    "kw = {'k':2,\"g\":3}\n",
    "f1(*arg,**kw)"
   ]
  },
  {
   "cell_type": "code",
   "execution_count": 52,
   "id": "6e87d9fa",
   "metadata": {},
   "outputs": [
    {
     "data": {
      "text/plain": [
       "48"
      ]
     },
     "execution_count": 52,
     "metadata": {},
     "output_type": "execute_result"
    }
   ],
   "source": [
    "# 练习题\n",
    "# mul 函数允许计算两个数的乘积，请稍加改造，变成可接收一个或多个数并计算乘积：\n",
    "t = (2,4,1,6)\n",
    "def mul(*arg):\n",
    "    total = 1\n",
    "    for i in arg:\n",
    "        total*=i\n",
    "    return total\n",
    "mul(*t)"
   ]
  },
  {
   "cell_type": "code",
   "execution_count": 56,
   "id": "2184af54",
   "metadata": {},
   "outputs": [
    {
     "data": {
      "text/plain": [
       "3628800"
      ]
     },
     "execution_count": 56,
     "metadata": {},
     "output_type": "execute_result"
    }
   ],
   "source": [
    "#递归函数\n",
    "def fact(x):\n",
    "    if x ==1:\n",
    "        return 1\n",
    "    return x*fact(x-1)\n",
    "fact(10)"
   ]
  },
  {
   "cell_type": "code",
   "execution_count": 58,
   "id": "caf9c176",
   "metadata": {},
   "outputs": [
    {
     "data": {
      "text/plain": [
       "120"
      ]
     },
     "execution_count": 58,
     "metadata": {},
     "output_type": "execute_result"
    }
   ],
   "source": [
    "# 尾递归\n",
    "def fact(n):\n",
    "    return fact_iter(n,1)\n",
    "\n",
    "def fact_iter(num,product):\n",
    "    if num == 1:\n",
    "        return product\n",
    "    return fact_iter(num-1,num*product)\n",
    "\n",
    "fact(5)\n"
   ]
  },
  {
   "cell_type": "code",
   "execution_count": 60,
   "id": "daea2416",
   "metadata": {},
   "outputs": [
    {
     "data": {
      "text/plain": [
       "301"
      ]
     },
     "execution_count": 60,
     "metadata": {},
     "output_type": "execute_result"
    }
   ],
   "source": [
    "def test1():\n",
    "    m = 300 #这里的m就是局部变量\n",
    "    return m+1\n",
    "test1()"
   ]
  },
  {
   "cell_type": "code",
   "execution_count": 64,
   "id": "4ab8dd37",
   "metadata": {},
   "outputs": [
    {
     "name": "stdout",
     "output_type": "stream",
     "text": [
      "[4, 5, 6, 0, 0]\n",
      "[1, 2, 3, 4, 5]\n"
     ]
    }
   ],
   "source": [
    "# 小练习\n",
    "# 1. 写函数实现功能：传入一个列表，如果列表长度超过5，返回列表前5个元素组成的列表，如果长度小于\n",
    "# 5，使用0补齐元素，使得列表长度，并返回结果。\n",
    "\n",
    "def five(x):\n",
    "    if(len(x)>=5):\n",
    "        return x[:5]\n",
    "    else:\n",
    "        return x+[0]*(5-len(x))\n",
    "print(five([4, 5, 6 ]))\n",
    "print(five([1,2,3,4, 5, 6, 7]))"
   ]
  },
  {
   "cell_type": "code",
   "execution_count": 65,
   "id": "fb3820d3",
   "metadata": {},
   "outputs": [
    {
     "name": "stdout",
     "output_type": "stream",
     "text": [
      "[1, 3, 5, 7, 9, 11, 13, 15, 17, 19, 21, 23, 25, 27, 29, 31, 33, 35, 37, 39, 41, 43, 45, 47, 49, 51, 53, 55, 57, 59, 61, 63, 65, 67, 69, 71, 73, 75, 77, 79, 81, 83, 85, 87, 89, 91, 93, 95, 97, 99]\n"
     ]
    }
   ],
   "source": [
    "# 使用 while 循环，构造一个1, 3, 5, 7, ..., 99的列表.\n",
    "n=1\n",
    "ls = []\n",
    "while n<=99:\n",
    "    ls.append(n)\n",
    "    n+=2\n",
    "print(ls)"
   ]
  }
 ],
 "metadata": {
  "kernelspec": {
   "display_name": "Python 3 (ipykernel)",
   "language": "python",
   "name": "python3"
  },
  "language_info": {
   "codemirror_mode": {
    "name": "ipython",
    "version": 3
   },
   "file_extension": ".py",
   "mimetype": "text/x-python",
   "name": "python",
   "nbconvert_exporter": "python",
   "pygments_lexer": "ipython3",
   "version": "3.10.9"
  }
 },
 "nbformat": 4,
 "nbformat_minor": 5
}
